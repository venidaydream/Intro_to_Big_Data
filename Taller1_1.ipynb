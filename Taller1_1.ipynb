{
  "cells": [
    {
      "cell_type": "markdown",
      "metadata": {
        "id": "view-in-github",
        "colab_type": "text"
      },
      "source": [
        "<a href=\"https://colab.research.google.com/github/venidaydream/Intro_to_Big_Data/blob/main/Taller1_1.ipynb\" target=\"_parent\"><img src=\"https://colab.research.google.com/assets/colab-badge.svg\" alt=\"Open In Colab\"/></a>"
      ]
    },
    {
      "cell_type": "markdown",
      "source": [
        "#Taller 1\n",
        "1.\tUsando el fichero bolsa_2021.csv. Realiza los modelos CAPM de Cie, Enagás y Santander y responde a las siguientes preguntas.\n",
        "\n",
        "Recuerda que para ello primero tendrás que generar el tipo de interés diario, las rentabilidades de cada acción (e Ibex) y las primeras de riesgo de cada acción e Ibex\n",
        "\n",
        "a)\t¿Cuáles de las acciones son defensivas y cuáles ofensivas?\n",
        "\n",
        "b)\t¿Cumple la constante lo que dice el modelo teórico CAPM?\n",
        "\n",
        "c)\t¿Cuánto del riesgo de la acción explicamos con el riesgo del mercado en cada caso?\n",
        "\n",
        "\n",
        "\n",
        "\n",
        "# Translation\n",
        "\n",
        "\n",
        "1. Using the file bolsa_2021.csv. Create the CAPM models of Cie, Enagás and Santander and answer the following questions.\n",
        "\n",
        "Remember that to do this you will first have to generate the daily interest rate, the returns of each share (and Ibex) and the first risk of each share and Ibex\n",
        "\n",
        "a) Which of the actions are defensive and which are offensive?\n",
        "\n",
        "\n",
        "\n",
        "b) Does the constant comply with what the CAPM theoretical model says?\n",
        "\n",
        "\n",
        "\n",
        "c) How much of the stock's risk do we explain with the market risk in each case?\n"
      ],
      "metadata": {
        "id": "p7WxltF5TX7V"
      },
      "id": "p7WxltF5TX7V"
    },
    {
      "cell_type": "markdown",
      "source": [
        "# Solution\n",
        "\n",
        "Calculate **Risk Premium**:\n",
        "Calculate the risk premium for each stock by subtracting the risk-free rate from the stock's returns.\n",
        "\n",
        "**CAPM Model**:\n",
        "Apply the CAPM model to estimate the expected return for each stock. The CAPM formula is:\n",
        "\n",
        "Expected Return=Risk-Free Rate+β×(Market Return−Risk-Free Rate)\n",
        "\n",
        "a) Defensive or Offensive:\n",
        "Determine whether the stocks are defensive or offensive based on their beta values. Defensive stocks typically have betas less than 1, while offensive stocks have betas greater than 1.\n",
        "\n",
        "*beta > 1 - ofensiva*\n",
        "\n",
        "*beta < 1 - defensiva*\n",
        "\n",
        "b) Constant in CAPM:\n",
        "Check whether the constant in the CAPM model (alpha) is close to zero. Theoretically, it should be close to zero.\n",
        "According to CAPM theory, the intercept should theoretically represent this risk-free rate.\n",
        "\n",
        "The intercept or p-value. Either of these should be close to 0, so to reject the H0 and the model \"cumple\".\n",
        "\n",
        "*Constant = Intercept. Intercept tells the average value of omitted variables and noise in the model.*\n",
        "\n",
        "c) Percentage of Risk Explained:\n",
        "Calculate the percentage of the stock's risk explained by the market risk using the R-squared value.\n",
        "\n",
        "*R2 - R2 is the coefficient of determination that tells us that how much percentage variation independent variable can be explained by independent variable.The maximum possible value of R2  can be 1, means the larger the R2  value better the regression.*\n",
        "\n",
        "*The minimum level of return required by investors occurs when the actual return is the same as the expected return, so that there is no risk at all of the return on the investment being different from the expected return. This minimum level of return is called the ‘risk-free rate of return‘*\n",
        "\n",
        "\n",
        "Stock_CAPM_return = riskfree + stock_beta * risk premium"
      ],
      "metadata": {
        "id": "xAKwxrhCXbm2"
      },
      "id": "xAKwxrhCXbm2"
    },
    {
      "cell_type": "code",
      "source": [
        "import pandas as pd\n",
        "import numpy as np\n",
        "from sklearn.linear_model import LinearRegression\n",
        "from sklearn.metrics import r2_score\n",
        "import statsmodels.formula.api as smf\n",
        "\n",
        "# Load data\n",
        "data = pd.read_csv('bolsa_2021.csv')\n",
        "# Drop the last two rows\n",
        "data = data.iloc[:-3]\n",
        "print(data)"
      ],
      "metadata": {
        "colab": {
          "base_uri": "https://localhost:8080/"
        },
        "id": "Gi2d9s4zTZT3",
        "outputId": "54e5c936-6d9b-42f9-8280-7798fac2216e"
      },
      "id": "Gi2d9s4zTZT3",
      "execution_count": 2,
      "outputs": [
        {
          "output_type": "stream",
          "name": "stdout",
          "text": [
            "           Date        Cie         Ibez     Enagas  Santander  interes\n",
            "0    19/10/2020  17.049999  6860.200195  20.100000   1.584892    0.120\n",
            "1    20/10/2020  17.020000  6927.299805  20.100000   1.628783    0.145\n",
            "2    21/10/2020  17.200001  6811.500000  20.100000   1.599075    0.165\n",
            "3    22/10/2020  17.370001  6796.600098  20.100000   1.617092    0.183\n",
            "4    23/10/2020  17.530001  6893.399902  20.100000   1.671333    0.170\n",
            "..          ...        ...          ...        ...        ...      ...\n",
            "252  12/10/2021  21.860001  8935.900391  19.629999   3.383500    0.441\n",
            "253  13/10/2021  22.040001  8881.400391  19.385000   3.276000    0.443\n",
            "254  14/10/2021  22.020000  8925.000000        NaN   3.281000    0.458\n",
            "255  15/10/2021  22.440001  8997.000000        NaN   3.345500    0.464\n",
            "256  18/10/2021  22.360001  8970.200195        NaN   3.362000    0.492\n",
            "\n",
            "[257 rows x 6 columns]\n"
          ]
        }
      ]
    },
    {
      "cell_type": "code",
      "source": [
        "# Extract daily interest rate from the last column\n",
        "data['daily_interest_rate'] = data['interes'] / 100 / 360\n",
        "\n",
        "# Calculate daily returns\n",
        "data['Daily_Return_Ibex'] = data['Ibez'].pct_change()\n",
        "\n",
        "data['Daily_Return_Cie'] = data['Cie'].pct_change()\n",
        "data['Daily_Return_Enagas'] = data['Enagas'].pct_change()\n",
        "data['Daily_Return_Santander'] = data['Santander'].pct_change()\n",
        "\n",
        "# Calculate risk premium\n",
        "data['Risk_Premium_Cie'] = data['Daily_Return_Cie'] - data['daily_interest_rate'] #Portfolio_Excess\n",
        "data['Risk_Premium_Enagas'] = data['Daily_Return_Enagas'] - data['daily_interest_rate'] #Portfolio_Excess\n",
        "data['Risk_Premium_Santander'] = data['Daily_Return_Santander'] - data['daily_interest_rate'] #Portfolio_Excess\n",
        "\n",
        "data['Risk_Premium_Ibex'] = data['Daily_Return_Ibex'] - data['daily_interest_rate'] #market excess\n",
        "\n",
        "data"
      ],
      "metadata": {
        "colab": {
          "base_uri": "https://localhost:8080/",
          "height": 444
        },
        "id": "haplhL-2Z6v8",
        "outputId": "d90886a7-94a8-46a9-f949-cfedad33981d"
      },
      "id": "haplhL-2Z6v8",
      "execution_count": 3,
      "outputs": [
        {
          "output_type": "execute_result",
          "data": {
            "text/plain": [
              "           Date        Cie         Ibez     Enagas  Santander  interes  \\\n",
              "0    19/10/2020  17.049999  6860.200195  20.100000   1.584892    0.120   \n",
              "1    20/10/2020  17.020000  6927.299805  20.100000   1.628783    0.145   \n",
              "2    21/10/2020  17.200001  6811.500000  20.100000   1.599075    0.165   \n",
              "3    22/10/2020  17.370001  6796.600098  20.100000   1.617092    0.183   \n",
              "4    23/10/2020  17.530001  6893.399902  20.100000   1.671333    0.170   \n",
              "..          ...        ...          ...        ...        ...      ...   \n",
              "252  12/10/2021  21.860001  8935.900391  19.629999   3.383500    0.441   \n",
              "253  13/10/2021  22.040001  8881.400391  19.385000   3.276000    0.443   \n",
              "254  14/10/2021  22.020000  8925.000000        NaN   3.281000    0.458   \n",
              "255  15/10/2021  22.440001  8997.000000        NaN   3.345500    0.464   \n",
              "256  18/10/2021  22.360001  8970.200195        NaN   3.362000    0.492   \n",
              "\n",
              "     daily_interest_rate  Daily_Return_Ibex  Daily_Return_Cie  \\\n",
              "0               0.000003                NaN               NaN   \n",
              "1               0.000004           0.009781         -0.001759   \n",
              "2               0.000005          -0.016716          0.010576   \n",
              "3               0.000005          -0.002187          0.009884   \n",
              "4               0.000005           0.014242          0.009211   \n",
              "..                   ...                ...               ...   \n",
              "252             0.000012           0.004147         -0.009066   \n",
              "253             0.000012          -0.006099          0.008234   \n",
              "254             0.000013           0.004909         -0.000907   \n",
              "255             0.000013           0.008067          0.019074   \n",
              "256             0.000014          -0.002979         -0.003565   \n",
              "\n",
              "     Daily_Return_Enagas  Daily_Return_Santander  Risk_Premium_Cie  \\\n",
              "0                    NaN                     NaN               NaN   \n",
              "1               0.000000                0.027693         -0.001764   \n",
              "2               0.000000               -0.018239          0.010571   \n",
              "3               0.000000                0.011267          0.009879   \n",
              "4               0.000000                0.033542          0.009207   \n",
              "..                   ...                     ...               ...   \n",
              "252             0.006409                0.010302         -0.009078   \n",
              "253            -0.012481               -0.031772          0.008222   \n",
              "254             0.000000                0.001526         -0.000920   \n",
              "255             0.000000                0.019659          0.019061   \n",
              "256             0.000000                0.004932         -0.003579   \n",
              "\n",
              "     Risk_Premium_Enagas  Risk_Premium_Santander  Risk_Premium_Ibex  \n",
              "0                    NaN                     NaN                NaN  \n",
              "1              -0.000004                0.027689           0.009777  \n",
              "2              -0.000005               -0.018244          -0.016721  \n",
              "3              -0.000005                0.011262          -0.002193  \n",
              "4              -0.000005                0.033538           0.014238  \n",
              "..                   ...                     ...                ...  \n",
              "252             0.006396                0.010289           0.004134  \n",
              "253            -0.012493               -0.031784          -0.006111  \n",
              "254            -0.000013                0.001514           0.004896  \n",
              "255            -0.000013                0.019646           0.008054  \n",
              "256            -0.000014                0.004918          -0.002992  \n",
              "\n",
              "[257 rows x 15 columns]"
            ],
            "text/html": [
              "\n",
              "  <div id=\"df-41873379-dfae-4918-a3df-2b5740dcf027\" class=\"colab-df-container\">\n",
              "    <div>\n",
              "<style scoped>\n",
              "    .dataframe tbody tr th:only-of-type {\n",
              "        vertical-align: middle;\n",
              "    }\n",
              "\n",
              "    .dataframe tbody tr th {\n",
              "        vertical-align: top;\n",
              "    }\n",
              "\n",
              "    .dataframe thead th {\n",
              "        text-align: right;\n",
              "    }\n",
              "</style>\n",
              "<table border=\"1\" class=\"dataframe\">\n",
              "  <thead>\n",
              "    <tr style=\"text-align: right;\">\n",
              "      <th></th>\n",
              "      <th>Date</th>\n",
              "      <th>Cie</th>\n",
              "      <th>Ibez</th>\n",
              "      <th>Enagas</th>\n",
              "      <th>Santander</th>\n",
              "      <th>interes</th>\n",
              "      <th>daily_interest_rate</th>\n",
              "      <th>Daily_Return_Ibex</th>\n",
              "      <th>Daily_Return_Cie</th>\n",
              "      <th>Daily_Return_Enagas</th>\n",
              "      <th>Daily_Return_Santander</th>\n",
              "      <th>Risk_Premium_Cie</th>\n",
              "      <th>Risk_Premium_Enagas</th>\n",
              "      <th>Risk_Premium_Santander</th>\n",
              "      <th>Risk_Premium_Ibex</th>\n",
              "    </tr>\n",
              "  </thead>\n",
              "  <tbody>\n",
              "    <tr>\n",
              "      <th>0</th>\n",
              "      <td>19/10/2020</td>\n",
              "      <td>17.049999</td>\n",
              "      <td>6860.200195</td>\n",
              "      <td>20.100000</td>\n",
              "      <td>1.584892</td>\n",
              "      <td>0.120</td>\n",
              "      <td>0.000003</td>\n",
              "      <td>NaN</td>\n",
              "      <td>NaN</td>\n",
              "      <td>NaN</td>\n",
              "      <td>NaN</td>\n",
              "      <td>NaN</td>\n",
              "      <td>NaN</td>\n",
              "      <td>NaN</td>\n",
              "      <td>NaN</td>\n",
              "    </tr>\n",
              "    <tr>\n",
              "      <th>1</th>\n",
              "      <td>20/10/2020</td>\n",
              "      <td>17.020000</td>\n",
              "      <td>6927.299805</td>\n",
              "      <td>20.100000</td>\n",
              "      <td>1.628783</td>\n",
              "      <td>0.145</td>\n",
              "      <td>0.000004</td>\n",
              "      <td>0.009781</td>\n",
              "      <td>-0.001759</td>\n",
              "      <td>0.000000</td>\n",
              "      <td>0.027693</td>\n",
              "      <td>-0.001764</td>\n",
              "      <td>-0.000004</td>\n",
              "      <td>0.027689</td>\n",
              "      <td>0.009777</td>\n",
              "    </tr>\n",
              "    <tr>\n",
              "      <th>2</th>\n",
              "      <td>21/10/2020</td>\n",
              "      <td>17.200001</td>\n",
              "      <td>6811.500000</td>\n",
              "      <td>20.100000</td>\n",
              "      <td>1.599075</td>\n",
              "      <td>0.165</td>\n",
              "      <td>0.000005</td>\n",
              "      <td>-0.016716</td>\n",
              "      <td>0.010576</td>\n",
              "      <td>0.000000</td>\n",
              "      <td>-0.018239</td>\n",
              "      <td>0.010571</td>\n",
              "      <td>-0.000005</td>\n",
              "      <td>-0.018244</td>\n",
              "      <td>-0.016721</td>\n",
              "    </tr>\n",
              "    <tr>\n",
              "      <th>3</th>\n",
              "      <td>22/10/2020</td>\n",
              "      <td>17.370001</td>\n",
              "      <td>6796.600098</td>\n",
              "      <td>20.100000</td>\n",
              "      <td>1.617092</td>\n",
              "      <td>0.183</td>\n",
              "      <td>0.000005</td>\n",
              "      <td>-0.002187</td>\n",
              "      <td>0.009884</td>\n",
              "      <td>0.000000</td>\n",
              "      <td>0.011267</td>\n",
              "      <td>0.009879</td>\n",
              "      <td>-0.000005</td>\n",
              "      <td>0.011262</td>\n",
              "      <td>-0.002193</td>\n",
              "    </tr>\n",
              "    <tr>\n",
              "      <th>4</th>\n",
              "      <td>23/10/2020</td>\n",
              "      <td>17.530001</td>\n",
              "      <td>6893.399902</td>\n",
              "      <td>20.100000</td>\n",
              "      <td>1.671333</td>\n",
              "      <td>0.170</td>\n",
              "      <td>0.000005</td>\n",
              "      <td>0.014242</td>\n",
              "      <td>0.009211</td>\n",
              "      <td>0.000000</td>\n",
              "      <td>0.033542</td>\n",
              "      <td>0.009207</td>\n",
              "      <td>-0.000005</td>\n",
              "      <td>0.033538</td>\n",
              "      <td>0.014238</td>\n",
              "    </tr>\n",
              "    <tr>\n",
              "      <th>...</th>\n",
              "      <td>...</td>\n",
              "      <td>...</td>\n",
              "      <td>...</td>\n",
              "      <td>...</td>\n",
              "      <td>...</td>\n",
              "      <td>...</td>\n",
              "      <td>...</td>\n",
              "      <td>...</td>\n",
              "      <td>...</td>\n",
              "      <td>...</td>\n",
              "      <td>...</td>\n",
              "      <td>...</td>\n",
              "      <td>...</td>\n",
              "      <td>...</td>\n",
              "      <td>...</td>\n",
              "    </tr>\n",
              "    <tr>\n",
              "      <th>252</th>\n",
              "      <td>12/10/2021</td>\n",
              "      <td>21.860001</td>\n",
              "      <td>8935.900391</td>\n",
              "      <td>19.629999</td>\n",
              "      <td>3.383500</td>\n",
              "      <td>0.441</td>\n",
              "      <td>0.000012</td>\n",
              "      <td>0.004147</td>\n",
              "      <td>-0.009066</td>\n",
              "      <td>0.006409</td>\n",
              "      <td>0.010302</td>\n",
              "      <td>-0.009078</td>\n",
              "      <td>0.006396</td>\n",
              "      <td>0.010289</td>\n",
              "      <td>0.004134</td>\n",
              "    </tr>\n",
              "    <tr>\n",
              "      <th>253</th>\n",
              "      <td>13/10/2021</td>\n",
              "      <td>22.040001</td>\n",
              "      <td>8881.400391</td>\n",
              "      <td>19.385000</td>\n",
              "      <td>3.276000</td>\n",
              "      <td>0.443</td>\n",
              "      <td>0.000012</td>\n",
              "      <td>-0.006099</td>\n",
              "      <td>0.008234</td>\n",
              "      <td>-0.012481</td>\n",
              "      <td>-0.031772</td>\n",
              "      <td>0.008222</td>\n",
              "      <td>-0.012493</td>\n",
              "      <td>-0.031784</td>\n",
              "      <td>-0.006111</td>\n",
              "    </tr>\n",
              "    <tr>\n",
              "      <th>254</th>\n",
              "      <td>14/10/2021</td>\n",
              "      <td>22.020000</td>\n",
              "      <td>8925.000000</td>\n",
              "      <td>NaN</td>\n",
              "      <td>3.281000</td>\n",
              "      <td>0.458</td>\n",
              "      <td>0.000013</td>\n",
              "      <td>0.004909</td>\n",
              "      <td>-0.000907</td>\n",
              "      <td>0.000000</td>\n",
              "      <td>0.001526</td>\n",
              "      <td>-0.000920</td>\n",
              "      <td>-0.000013</td>\n",
              "      <td>0.001514</td>\n",
              "      <td>0.004896</td>\n",
              "    </tr>\n",
              "    <tr>\n",
              "      <th>255</th>\n",
              "      <td>15/10/2021</td>\n",
              "      <td>22.440001</td>\n",
              "      <td>8997.000000</td>\n",
              "      <td>NaN</td>\n",
              "      <td>3.345500</td>\n",
              "      <td>0.464</td>\n",
              "      <td>0.000013</td>\n",
              "      <td>0.008067</td>\n",
              "      <td>0.019074</td>\n",
              "      <td>0.000000</td>\n",
              "      <td>0.019659</td>\n",
              "      <td>0.019061</td>\n",
              "      <td>-0.000013</td>\n",
              "      <td>0.019646</td>\n",
              "      <td>0.008054</td>\n",
              "    </tr>\n",
              "    <tr>\n",
              "      <th>256</th>\n",
              "      <td>18/10/2021</td>\n",
              "      <td>22.360001</td>\n",
              "      <td>8970.200195</td>\n",
              "      <td>NaN</td>\n",
              "      <td>3.362000</td>\n",
              "      <td>0.492</td>\n",
              "      <td>0.000014</td>\n",
              "      <td>-0.002979</td>\n",
              "      <td>-0.003565</td>\n",
              "      <td>0.000000</td>\n",
              "      <td>0.004932</td>\n",
              "      <td>-0.003579</td>\n",
              "      <td>-0.000014</td>\n",
              "      <td>0.004918</td>\n",
              "      <td>-0.002992</td>\n",
              "    </tr>\n",
              "  </tbody>\n",
              "</table>\n",
              "<p>257 rows × 15 columns</p>\n",
              "</div>\n",
              "    <div class=\"colab-df-buttons\">\n",
              "\n",
              "  <div class=\"colab-df-container\">\n",
              "    <button class=\"colab-df-convert\" onclick=\"convertToInteractive('df-41873379-dfae-4918-a3df-2b5740dcf027')\"\n",
              "            title=\"Convert this dataframe to an interactive table.\"\n",
              "            style=\"display:none;\">\n",
              "\n",
              "  <svg xmlns=\"http://www.w3.org/2000/svg\" height=\"24px\" viewBox=\"0 -960 960 960\">\n",
              "    <path d=\"M120-120v-720h720v720H120Zm60-500h600v-160H180v160Zm220 220h160v-160H400v160Zm0 220h160v-160H400v160ZM180-400h160v-160H180v160Zm440 0h160v-160H620v160ZM180-180h160v-160H180v160Zm440 0h160v-160H620v160Z\"/>\n",
              "  </svg>\n",
              "    </button>\n",
              "\n",
              "  <style>\n",
              "    .colab-df-container {\n",
              "      display:flex;\n",
              "      gap: 12px;\n",
              "    }\n",
              "\n",
              "    .colab-df-convert {\n",
              "      background-color: #E8F0FE;\n",
              "      border: none;\n",
              "      border-radius: 50%;\n",
              "      cursor: pointer;\n",
              "      display: none;\n",
              "      fill: #1967D2;\n",
              "      height: 32px;\n",
              "      padding: 0 0 0 0;\n",
              "      width: 32px;\n",
              "    }\n",
              "\n",
              "    .colab-df-convert:hover {\n",
              "      background-color: #E2EBFA;\n",
              "      box-shadow: 0px 1px 2px rgba(60, 64, 67, 0.3), 0px 1px 3px 1px rgba(60, 64, 67, 0.15);\n",
              "      fill: #174EA6;\n",
              "    }\n",
              "\n",
              "    .colab-df-buttons div {\n",
              "      margin-bottom: 4px;\n",
              "    }\n",
              "\n",
              "    [theme=dark] .colab-df-convert {\n",
              "      background-color: #3B4455;\n",
              "      fill: #D2E3FC;\n",
              "    }\n",
              "\n",
              "    [theme=dark] .colab-df-convert:hover {\n",
              "      background-color: #434B5C;\n",
              "      box-shadow: 0px 1px 3px 1px rgba(0, 0, 0, 0.15);\n",
              "      filter: drop-shadow(0px 1px 2px rgba(0, 0, 0, 0.3));\n",
              "      fill: #FFFFFF;\n",
              "    }\n",
              "  </style>\n",
              "\n",
              "    <script>\n",
              "      const buttonEl =\n",
              "        document.querySelector('#df-41873379-dfae-4918-a3df-2b5740dcf027 button.colab-df-convert');\n",
              "      buttonEl.style.display =\n",
              "        google.colab.kernel.accessAllowed ? 'block' : 'none';\n",
              "\n",
              "      async function convertToInteractive(key) {\n",
              "        const element = document.querySelector('#df-41873379-dfae-4918-a3df-2b5740dcf027');\n",
              "        const dataTable =\n",
              "          await google.colab.kernel.invokeFunction('convertToInteractive',\n",
              "                                                    [key], {});\n",
              "        if (!dataTable) return;\n",
              "\n",
              "        const docLinkHtml = 'Like what you see? Visit the ' +\n",
              "          '<a target=\"_blank\" href=https://colab.research.google.com/notebooks/data_table.ipynb>data table notebook</a>'\n",
              "          + ' to learn more about interactive tables.';\n",
              "        element.innerHTML = '';\n",
              "        dataTable['output_type'] = 'display_data';\n",
              "        await google.colab.output.renderOutput(dataTable, element);\n",
              "        const docLink = document.createElement('div');\n",
              "        docLink.innerHTML = docLinkHtml;\n",
              "        element.appendChild(docLink);\n",
              "      }\n",
              "    </script>\n",
              "  </div>\n",
              "\n",
              "\n",
              "<div id=\"df-c0e4d916-8d0e-476f-85d8-e91c88692893\">\n",
              "  <button class=\"colab-df-quickchart\" onclick=\"quickchart('df-c0e4d916-8d0e-476f-85d8-e91c88692893')\"\n",
              "            title=\"Suggest charts\"\n",
              "            style=\"display:none;\">\n",
              "\n",
              "<svg xmlns=\"http://www.w3.org/2000/svg\" height=\"24px\"viewBox=\"0 0 24 24\"\n",
              "     width=\"24px\">\n",
              "    <g>\n",
              "        <path d=\"M19 3H5c-1.1 0-2 .9-2 2v14c0 1.1.9 2 2 2h14c1.1 0 2-.9 2-2V5c0-1.1-.9-2-2-2zM9 17H7v-7h2v7zm4 0h-2V7h2v10zm4 0h-2v-4h2v4z\"/>\n",
              "    </g>\n",
              "</svg>\n",
              "  </button>\n",
              "\n",
              "<style>\n",
              "  .colab-df-quickchart {\n",
              "      --bg-color: #E8F0FE;\n",
              "      --fill-color: #1967D2;\n",
              "      --hover-bg-color: #E2EBFA;\n",
              "      --hover-fill-color: #174EA6;\n",
              "      --disabled-fill-color: #AAA;\n",
              "      --disabled-bg-color: #DDD;\n",
              "  }\n",
              "\n",
              "  [theme=dark] .colab-df-quickchart {\n",
              "      --bg-color: #3B4455;\n",
              "      --fill-color: #D2E3FC;\n",
              "      --hover-bg-color: #434B5C;\n",
              "      --hover-fill-color: #FFFFFF;\n",
              "      --disabled-bg-color: #3B4455;\n",
              "      --disabled-fill-color: #666;\n",
              "  }\n",
              "\n",
              "  .colab-df-quickchart {\n",
              "    background-color: var(--bg-color);\n",
              "    border: none;\n",
              "    border-radius: 50%;\n",
              "    cursor: pointer;\n",
              "    display: none;\n",
              "    fill: var(--fill-color);\n",
              "    height: 32px;\n",
              "    padding: 0;\n",
              "    width: 32px;\n",
              "  }\n",
              "\n",
              "  .colab-df-quickchart:hover {\n",
              "    background-color: var(--hover-bg-color);\n",
              "    box-shadow: 0 1px 2px rgba(60, 64, 67, 0.3), 0 1px 3px 1px rgba(60, 64, 67, 0.15);\n",
              "    fill: var(--button-hover-fill-color);\n",
              "  }\n",
              "\n",
              "  .colab-df-quickchart-complete:disabled,\n",
              "  .colab-df-quickchart-complete:disabled:hover {\n",
              "    background-color: var(--disabled-bg-color);\n",
              "    fill: var(--disabled-fill-color);\n",
              "    box-shadow: none;\n",
              "  }\n",
              "\n",
              "  .colab-df-spinner {\n",
              "    border: 2px solid var(--fill-color);\n",
              "    border-color: transparent;\n",
              "    border-bottom-color: var(--fill-color);\n",
              "    animation:\n",
              "      spin 1s steps(1) infinite;\n",
              "  }\n",
              "\n",
              "  @keyframes spin {\n",
              "    0% {\n",
              "      border-color: transparent;\n",
              "      border-bottom-color: var(--fill-color);\n",
              "      border-left-color: var(--fill-color);\n",
              "    }\n",
              "    20% {\n",
              "      border-color: transparent;\n",
              "      border-left-color: var(--fill-color);\n",
              "      border-top-color: var(--fill-color);\n",
              "    }\n",
              "    30% {\n",
              "      border-color: transparent;\n",
              "      border-left-color: var(--fill-color);\n",
              "      border-top-color: var(--fill-color);\n",
              "      border-right-color: var(--fill-color);\n",
              "    }\n",
              "    40% {\n",
              "      border-color: transparent;\n",
              "      border-right-color: var(--fill-color);\n",
              "      border-top-color: var(--fill-color);\n",
              "    }\n",
              "    60% {\n",
              "      border-color: transparent;\n",
              "      border-right-color: var(--fill-color);\n",
              "    }\n",
              "    80% {\n",
              "      border-color: transparent;\n",
              "      border-right-color: var(--fill-color);\n",
              "      border-bottom-color: var(--fill-color);\n",
              "    }\n",
              "    90% {\n",
              "      border-color: transparent;\n",
              "      border-bottom-color: var(--fill-color);\n",
              "    }\n",
              "  }\n",
              "</style>\n",
              "\n",
              "  <script>\n",
              "    async function quickchart(key) {\n",
              "      const quickchartButtonEl =\n",
              "        document.querySelector('#' + key + ' button');\n",
              "      quickchartButtonEl.disabled = true;  // To prevent multiple clicks.\n",
              "      quickchartButtonEl.classList.add('colab-df-spinner');\n",
              "      try {\n",
              "        const charts = await google.colab.kernel.invokeFunction(\n",
              "            'suggestCharts', [key], {});\n",
              "      } catch (error) {\n",
              "        console.error('Error during call to suggestCharts:', error);\n",
              "      }\n",
              "      quickchartButtonEl.classList.remove('colab-df-spinner');\n",
              "      quickchartButtonEl.classList.add('colab-df-quickchart-complete');\n",
              "    }\n",
              "    (() => {\n",
              "      let quickchartButtonEl =\n",
              "        document.querySelector('#df-c0e4d916-8d0e-476f-85d8-e91c88692893 button');\n",
              "      quickchartButtonEl.style.display =\n",
              "        google.colab.kernel.accessAllowed ? 'block' : 'none';\n",
              "    })();\n",
              "  </script>\n",
              "</div>\n",
              "    </div>\n",
              "  </div>\n"
            ]
          },
          "metadata": {},
          "execution_count": 3
        }
      ]
    },
    {
      "cell_type": "markdown",
      "source": [
        "# CIE"
      ],
      "metadata": {
        "id": "w8YI7Td7k4nM"
      },
      "id": "w8YI7Td7k4nM"
    },
    {
      "cell_type": "code",
      "source": [
        "#Linear regression Cie\n",
        "model_CIE = smf.ols(formula='Risk_Premium_Cie ~ Risk_Premium_Ibex', data=data)\n",
        "results_CIE = model_CIE.fit()\n",
        "print(results_CIE.summary())"
      ],
      "metadata": {
        "colab": {
          "base_uri": "https://localhost:8080/"
        },
        "id": "nLWzxW8UYh2H",
        "outputId": "f4499129-6bc4-4cd0-a447-4d034506a839"
      },
      "id": "nLWzxW8UYh2H",
      "execution_count": 4,
      "outputs": [
        {
          "output_type": "stream",
          "name": "stdout",
          "text": [
            "                            OLS Regression Results                            \n",
            "==============================================================================\n",
            "Dep. Variable:       Risk_Premium_Cie   R-squared:                       0.259\n",
            "Model:                            OLS   Adj. R-squared:                  0.256\n",
            "Method:                 Least Squares   F-statistic:                     88.97\n",
            "Date:                Mon, 13 Nov 2023   Prob (F-statistic):           2.66e-18\n",
            "Time:                        20:21:05   Log-Likelihood:                 697.94\n",
            "No. Observations:                 256   AIC:                            -1392.\n",
            "Df Residuals:                     254   BIC:                            -1385.\n",
            "Df Model:                           1                                         \n",
            "Covariance Type:            nonrobust                                         \n",
            "=====================================================================================\n",
            "                        coef    std err          t      P>|t|      [0.025      0.975]\n",
            "-------------------------------------------------------------------------------------\n",
            "Intercept             0.0003      0.001      0.343      0.732      -0.002       0.002\n",
            "Risk_Premium_Ibex     0.7903      0.084      9.432      0.000       0.625       0.955\n",
            "==============================================================================\n",
            "Omnibus:                       41.124   Durbin-Watson:                   2.160\n",
            "Prob(Omnibus):                  0.000   Jarque-Bera (JB):              152.680\n",
            "Skew:                           0.593   Prob(JB):                     7.01e-34\n",
            "Kurtosis:                       6.593   Cond. No.                         84.3\n",
            "==============================================================================\n",
            "\n",
            "Notes:\n",
            "[1] Standard Errors assume that the covariance matrix of the errors is correctly specified.\n"
          ]
        }
      ]
    },
    {
      "cell_type": "markdown",
      "source": [
        "You can think of market beta as a measure of your exposure to the broad stock market. For every 1.0% rise (or fall) in the market, you can expect your portfolio to rise (fall) roughly beta %."
      ],
      "metadata": {
        "id": "x2uo6NGVnlvX"
      },
      "id": "x2uo6NGVnlvX"
    },
    {
      "cell_type": "markdown",
      "source": [
        "A high adjusted r-squared (close to 1) means that the majority of your portfolio's movements can be explained by the factors in your model."
      ],
      "metadata": {
        "id": "pkGUhiSRnatY"
      },
      "id": "pkGUhiSRnatY"
    },
    {
      "cell_type": "code",
      "source": [
        "beta_CIE = results_CIE.params['Risk_Premium_Ibex'] #systematic risk\n",
        "beta_CIE #defensive"
      ],
      "metadata": {
        "colab": {
          "base_uri": "https://localhost:8080/"
        },
        "id": "OnssKgG3kgPB",
        "outputId": "471997ce-f813-4425-8a48-d9bc232c4b95"
      },
      "id": "OnssKgG3kgPB",
      "execution_count": 5,
      "outputs": [
        {
          "output_type": "execute_result",
          "data": {
            "text/plain": [
              "0.7903483368329989"
            ]
          },
          "metadata": {},
          "execution_count": 5
        }
      ]
    },
    {
      "cell_type": "code",
      "source": [
        "p_value_CIE = results_CIE.pvalues['Risk_Premium_Ibex']\n",
        "p_value_CIE #Prob (F-statistic):          2.656082357167608e-18 pvalue < 0,05 is statistically significant\n",
        "#p-value is the probability of obtaining the t statistics at least as contradictory to H0  as calculated from assuming that the null hypothesis is true."
      ],
      "metadata": {
        "colab": {
          "base_uri": "https://localhost:8080/"
        },
        "id": "I6OgEohzsz5y",
        "outputId": "af143788-fc7a-425d-eb93-39d94c64d4fc"
      },
      "id": "I6OgEohzsz5y",
      "execution_count": 6,
      "outputs": [
        {
          "output_type": "execute_result",
          "data": {
            "text/plain": [
              "2.656082357167608e-18"
            ]
          },
          "metadata": {},
          "execution_count": 6
        }
      ]
    },
    {
      "cell_type": "code",
      "source": [
        "alpha_CIE = results_CIE.params['Intercept'] #specific risk; missing factor; cumple CAPM, statistically 0\n",
        "alpha_CIE #It aligns with the theoretical expectation that the intercept should represent the risk-free rate, and in this case, it's not significantly different from zero."
      ],
      "metadata": {
        "colab": {
          "base_uri": "https://localhost:8080/"
        },
        "id": "TpfLm7uktYfD",
        "outputId": "851b9e63-563a-4ea3-d66e-e6e6cc76431b"
      },
      "id": "TpfLm7uktYfD",
      "execution_count": 7,
      "outputs": [
        {
          "output_type": "execute_result",
          "data": {
            "text/plain": [
              "0.0003421531375220144"
            ]
          },
          "metadata": {},
          "execution_count": 7
        }
      ]
    },
    {
      "cell_type": "code",
      "source": [
        "r2_CIE = results_CIE.rsquared #cuanto % se explica con la cartera de mercado\n",
        "r2_CIE #The maximum possible value of R2  can be 1, means the larger the R2 value better the regression. Explaining x% of the stock variance"
      ],
      "metadata": {
        "colab": {
          "base_uri": "https://localhost:8080/"
        },
        "id": "Vj9EqyWrKxnG",
        "outputId": "bc46ebb7-8018-483d-aae5-fe4dba15cdca"
      },
      "id": "Vj9EqyWrKxnG",
      "execution_count": 8,
      "outputs": [
        {
          "output_type": "execute_result",
          "data": {
            "text/plain": [
              "0.25940376800928555"
            ]
          },
          "metadata": {},
          "execution_count": 8
        }
      ]
    },
    {
      "cell_type": "markdown",
      "source": [
        "# CIE Results\n",
        "\n",
        "***a)\t¿Cuáles de las acciones son defensivas y cuáles ofensivas?***\n",
        "\n",
        "beta_CIE = results_CIE.params['Risk_Premium_Ibex'] #systematic risk\n",
        "beta_CIE #ofensiva\n",
        "\n",
        "\n",
        "***b)\t¿Cumple la constante lo que dice el modelo teórico CAPM?***\n",
        "\n",
        "alpha_CIE = results_CIE.params['Intercept']\n",
        "\n",
        "specific risk; missing factor; cumple CAPM, statistically 0. It aligns with the theoretical expectation that the intercept should represent the risk-free rate, and in this case, it's not significantly different from zero.\n",
        "\n",
        "***c)\t¿Cuánto del riesgo de la acción explicamos con el riesgo del mercado en cada caso?***\n",
        "\n",
        "r2_CIE = results_CIE.rsquared\n",
        "\n",
        "cuanto % se explica con la cartera de mercado. The maximum possible value of R2  can be 1, means the larger the R2 value better the regression. Explaining x% of the stock variance\n",
        "\n",
        "\n",
        "**Other stuff:**\n",
        "\n",
        "The coefficient for \"Risk_Premium_Ibex\" is 1.0011 = beta. This can be interpreted as, for a one-unit increase in \"Risk_Premium_Ibex,\" the \"Risk_Premium_Cie\" is expected to increase by approximately 1.0011 units."
      ],
      "metadata": {
        "id": "SktV7zUsLqBC"
      },
      "id": "SktV7zUsLqBC"
    },
    {
      "cell_type": "markdown",
      "source": [
        "# Enagas"
      ],
      "metadata": {
        "id": "kmPa8bFJk6u_"
      },
      "id": "kmPa8bFJk6u_"
    },
    {
      "cell_type": "code",
      "source": [
        "#Linear regression Enagas\n",
        "model_Enagas = smf.ols(formula='Risk_Premium_Enagas ~ Risk_Premium_Ibex', data=data)\n",
        "results_Enagas = model_Enagas.fit()\n",
        "print(results_Enagas.summary())"
      ],
      "metadata": {
        "colab": {
          "base_uri": "https://localhost:8080/"
        },
        "id": "wWpA3pqqirHj",
        "outputId": "ef5d801d-b8b7-4c32-80f9-7be1c17aa67d"
      },
      "id": "wWpA3pqqirHj",
      "execution_count": 9,
      "outputs": [
        {
          "output_type": "stream",
          "name": "stdout",
          "text": [
            "                             OLS Regression Results                            \n",
            "===============================================================================\n",
            "Dep. Variable:     Risk_Premium_Enagas   R-squared:                       0.004\n",
            "Model:                             OLS   Adj. R-squared:                 -0.000\n",
            "Method:                  Least Squares   F-statistic:                    0.9095\n",
            "Date:                 Mon, 13 Nov 2023   Prob (F-statistic):              0.341\n",
            "Time:                         20:21:05   Log-Likelihood:                 703.28\n",
            "No. Observations:                  256   AIC:                            -1403.\n",
            "Df Residuals:                      254   BIC:                            -1395.\n",
            "Df Model:                            1                                         \n",
            "Covariance Type:             nonrobust                                         \n",
            "=====================================================================================\n",
            "                        coef    std err          t      P>|t|      [0.025      0.975]\n",
            "-------------------------------------------------------------------------------------\n",
            "Intercept            -0.0001      0.001     -0.116      0.908      -0.002       0.002\n",
            "Risk_Premium_Ibex     0.0783      0.082      0.954      0.341      -0.083       0.240\n",
            "==============================================================================\n",
            "Omnibus:                       99.951   Durbin-Watson:                   2.248\n",
            "Prob(Omnibus):                  0.000   Jarque-Bera (JB):              978.357\n",
            "Skew:                          -1.252   Prob(JB):                    3.57e-213\n",
            "Kurtosis:                      12.244   Cond. No.                         84.3\n",
            "==============================================================================\n",
            "\n",
            "Notes:\n",
            "[1] Standard Errors assume that the covariance matrix of the errors is correctly specified.\n"
          ]
        }
      ]
    },
    {
      "cell_type": "code",
      "source": [
        "beta_Enagas = results_Enagas.params['Risk_Premium_Ibex']\n",
        "beta_Enagas #defensive"
      ],
      "metadata": {
        "colab": {
          "base_uri": "https://localhost:8080/"
        },
        "id": "x4_40yFgknFc",
        "outputId": "05f8295c-745a-4957-f040-165af51c30d4"
      },
      "id": "x4_40yFgknFc",
      "execution_count": 10,
      "outputs": [
        {
          "output_type": "execute_result",
          "data": {
            "text/plain": [
              "0.07826322164121614"
            ]
          },
          "metadata": {},
          "execution_count": 10
        }
      ]
    },
    {
      "cell_type": "code",
      "source": [
        "alpha_Enagas = results_Enagas.params['Intercept'] #specific risk; missing factor; cumple CAPM, statistically 0\n",
        "alpha_Enagas #It aligns with the theoretical expectation that the intercept should represent the risk-free rate, and in this case, it's not significantly different from zero."
      ],
      "metadata": {
        "colab": {
          "base_uri": "https://localhost:8080/"
        },
        "id": "i5NjeiKFD0I0",
        "outputId": "415e4df8-a2ad-4a80-ae65-3215b5fa9fca"
      },
      "id": "i5NjeiKFD0I0",
      "execution_count": 11,
      "outputs": [
        {
          "output_type": "execute_result",
          "data": {
            "text/plain": [
              "-0.00011336833877179163"
            ]
          },
          "metadata": {},
          "execution_count": 11
        }
      ]
    },
    {
      "cell_type": "markdown",
      "source": [
        "# Santander"
      ],
      "metadata": {
        "id": "yvfXquBUk8xa"
      },
      "id": "yvfXquBUk8xa"
    },
    {
      "cell_type": "code",
      "source": [
        "#Linear regression Santander\n",
        "model_Santander = smf.ols(formula='Risk_Premium_Santander ~ Risk_Premium_Ibex', data=data)\n",
        "results_Santander = model_Santander.fit()\n",
        "print(results_Santander.summary())"
      ],
      "metadata": {
        "colab": {
          "base_uri": "https://localhost:8080/"
        },
        "id": "B8dxPfEzi05i",
        "outputId": "1924f2b5-11ef-44bf-a8ae-9b5f37007d67"
      },
      "id": "B8dxPfEzi05i",
      "execution_count": 12,
      "outputs": [
        {
          "output_type": "stream",
          "name": "stdout",
          "text": [
            "                              OLS Regression Results                              \n",
            "==================================================================================\n",
            "Dep. Variable:     Risk_Premium_Santander   R-squared:                       0.664\n",
            "Model:                                OLS   Adj. R-squared:                  0.663\n",
            "Method:                     Least Squares   F-statistic:                     502.7\n",
            "Date:                    Mon, 13 Nov 2023   Prob (F-statistic):           3.77e-62\n",
            "Time:                            20:21:06   Log-Likelihood:                 723.11\n",
            "No. Observations:                     256   AIC:                            -1442.\n",
            "Df Residuals:                         254   BIC:                            -1435.\n",
            "Df Model:                               1                                         \n",
            "Covariance Type:                nonrobust                                         \n",
            "=====================================================================================\n",
            "                        coef    std err          t      P>|t|      [0.025      0.975]\n",
            "-------------------------------------------------------------------------------------\n",
            "Intercept             0.0013      0.001      1.483      0.139      -0.000       0.003\n",
            "Risk_Premium_Ibex     1.7029      0.076     22.421      0.000       1.553       1.852\n",
            "==============================================================================\n",
            "Omnibus:                        5.617   Durbin-Watson:                   1.847\n",
            "Prob(Omnibus):                  0.060   Jarque-Bera (JB):                8.210\n",
            "Skew:                          -0.030   Prob(JB):                       0.0165\n",
            "Kurtosis:                       3.875   Cond. No.                         84.3\n",
            "==============================================================================\n",
            "\n",
            "Notes:\n",
            "[1] Standard Errors assume that the covariance matrix of the errors is correctly specified.\n"
          ]
        }
      ]
    },
    {
      "cell_type": "code",
      "source": [
        "beta_Santander = results_Santander.params['Risk_Premium_Ibex']\n",
        "beta_Santander #offensive"
      ],
      "metadata": {
        "colab": {
          "base_uri": "https://localhost:8080/"
        },
        "id": "eUmmPOHHkqvk",
        "outputId": "18a86fd0-3fcc-4e88-dde3-3aa171f4fb84"
      },
      "id": "eUmmPOHHkqvk",
      "execution_count": 13,
      "outputs": [
        {
          "output_type": "execute_result",
          "data": {
            "text/plain": [
              "1.7028706226276444"
            ]
          },
          "metadata": {},
          "execution_count": 13
        }
      ]
    },
    {
      "cell_type": "code",
      "source": [
        "alpha_Santander = results_Santander.params['Intercept'] #specific risk; missing factor; cumple CAPM, statistically 0\n",
        "alpha_Santander #It aligns with the theoretical expectation that the intercept should represent the risk-free rate, and in this case, it's not significantly different from zero."
      ],
      "metadata": {
        "colab": {
          "base_uri": "https://localhost:8080/"
        },
        "id": "51FfbBAzD80d",
        "outputId": "26a7688b-bf76-4095-9282-e02ba01ddbc9"
      },
      "id": "51FfbBAzD80d",
      "execution_count": 14,
      "outputs": [
        {
          "output_type": "execute_result",
          "data": {
            "text/plain": [
              "0.0013414220197291754"
            ]
          },
          "metadata": {},
          "execution_count": 14
        }
      ]
    }
  ],
  "metadata": {
    "kernelspec": {
      "display_name": "Python 3 (ipykernel)",
      "language": "python",
      "name": "python3"
    },
    "language_info": {
      "codemirror_mode": {
        "name": "ipython",
        "version": 3
      },
      "file_extension": ".py",
      "mimetype": "text/x-python",
      "name": "python",
      "nbconvert_exporter": "python",
      "pygments_lexer": "ipython3",
      "version": "3.9.6"
    },
    "colab": {
      "provenance": [],
      "include_colab_link": true
    }
  },
  "nbformat": 4,
  "nbformat_minor": 5
}