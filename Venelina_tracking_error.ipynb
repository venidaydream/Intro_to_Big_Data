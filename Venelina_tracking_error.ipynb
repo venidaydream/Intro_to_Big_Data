{
  "nbformat": 4,
  "nbformat_minor": 0,
  "metadata": {
    "colab": {
      "provenance": [],
      "authorship_tag": "ABX9TyMzXlpApoAfNv+V3PjMy7I+",
      "include_colab_link": true
    },
    "kernelspec": {
      "name": "python3",
      "display_name": "Python 3"
    },
    "language_info": {
      "name": "python"
    }
  },
  "cells": [
    {
      "cell_type": "markdown",
      "metadata": {
        "id": "view-in-github",
        "colab_type": "text"
      },
      "source": [
        "<a href=\"https://colab.research.google.com/github/venidaydream/Intro_to_Big_Data/blob/main/Venelina_tracking_error.ipynb\" target=\"_parent\"><img src=\"https://colab.research.google.com/assets/colab-badge.svg\" alt=\"Open In Colab\"/></a>"
      ]
    },
    {
      "cell_type": "markdown",
      "source": [
        "# Ejercicio\n",
        "\n",
        "Considerando los stocks de IBEX que ya trabajaste, crear una cartera equiprobable con los stocks que consideraste para tu carteara (en el ejercicio que no he calificado) y comparar con el IBEX a partir del Tracking Error.\n",
        "\n",
        "El tracking error mide la diferencia entre el rendimiento de una cartera y el rendimiento de su índice de referencia. Puede indicar cuán bien la cartera sigue o se desvía del índice.\n",
        "\n",
        "Debes concluir si tu cartera sigue el IBEX o no.\n",
        "\n",
        "Y finalmente hacer la función donde dada la distribución de los retornos de la cartera y la distribución de los retornos del Índice, en entregue el tracking error."
      ],
      "metadata": {
        "id": "pCyPctZED1wX"
      }
    },
    {
      "cell_type": "markdown",
      "source": [
        "# Inicializar la cartera y el IBEX35"
      ],
      "metadata": {
        "id": "vbw64anwEEup"
      }
    },
    {
      "cell_type": "markdown",
      "source": [
        "De la entrega de IBEX35, mi cartera final tenía las siguientes acciones: ACCIONA, AENA y SOLARIA ENERGIA"
      ],
      "metadata": {
        "id": "udHufWB3DOW_"
      }
    },
    {
      "cell_type": "code",
      "source": [
        "import pandas as pd\n",
        "import datetime\n",
        "import yfinance as yf\n",
        "import numpy as np"
      ],
      "metadata": {
        "id": "Z5Kh7kQlDmho"
      },
      "execution_count": 269,
      "outputs": []
    },
    {
      "cell_type": "code",
      "execution_count": 270,
      "metadata": {
        "colab": {
          "base_uri": "https://localhost:8080/",
          "height": 255
        },
        "id": "QpHZ1TmhA-pZ",
        "outputId": "f47bbb8b-9ab8-4bf3-bf3d-ea370a1aa0c0"
      },
      "outputs": [
        {
          "output_type": "stream",
          "name": "stdout",
          "text": [
            "[*********************100%%**********************]  3 of 3 completed\n"
          ]
        },
        {
          "output_type": "execute_result",
          "data": {
            "text/plain": [
              "             AENA.MC   ANA.MC  SLR.MC\n",
              "Date                                 \n",
              "2020-01-02  155.0192  83.2112    7.15\n",
              "2020-01-03  153.9332  81.9518    7.06\n",
              "2020-01-06  152.9378  81.1872    6.84\n",
              "2020-01-07  152.2591  81.1872    6.94\n",
              "2020-01-08  152.5758  81.1422    6.95"
            ],
            "text/html": [
              "\n",
              "  <div id=\"df-0135e88f-5017-4185-87b3-7551dbd8260f\" class=\"colab-df-container\">\n",
              "    <div>\n",
              "<style scoped>\n",
              "    .dataframe tbody tr th:only-of-type {\n",
              "        vertical-align: middle;\n",
              "    }\n",
              "\n",
              "    .dataframe tbody tr th {\n",
              "        vertical-align: top;\n",
              "    }\n",
              "\n",
              "    .dataframe thead th {\n",
              "        text-align: right;\n",
              "    }\n",
              "</style>\n",
              "<table border=\"1\" class=\"dataframe\">\n",
              "  <thead>\n",
              "    <tr style=\"text-align: right;\">\n",
              "      <th></th>\n",
              "      <th>AENA.MC</th>\n",
              "      <th>ANA.MC</th>\n",
              "      <th>SLR.MC</th>\n",
              "    </tr>\n",
              "    <tr>\n",
              "      <th>Date</th>\n",
              "      <th></th>\n",
              "      <th></th>\n",
              "      <th></th>\n",
              "    </tr>\n",
              "  </thead>\n",
              "  <tbody>\n",
              "    <tr>\n",
              "      <th>2020-01-02</th>\n",
              "      <td>155.0192</td>\n",
              "      <td>83.2112</td>\n",
              "      <td>7.15</td>\n",
              "    </tr>\n",
              "    <tr>\n",
              "      <th>2020-01-03</th>\n",
              "      <td>153.9332</td>\n",
              "      <td>81.9518</td>\n",
              "      <td>7.06</td>\n",
              "    </tr>\n",
              "    <tr>\n",
              "      <th>2020-01-06</th>\n",
              "      <td>152.9378</td>\n",
              "      <td>81.1872</td>\n",
              "      <td>6.84</td>\n",
              "    </tr>\n",
              "    <tr>\n",
              "      <th>2020-01-07</th>\n",
              "      <td>152.2591</td>\n",
              "      <td>81.1872</td>\n",
              "      <td>6.94</td>\n",
              "    </tr>\n",
              "    <tr>\n",
              "      <th>2020-01-08</th>\n",
              "      <td>152.5758</td>\n",
              "      <td>81.1422</td>\n",
              "      <td>6.95</td>\n",
              "    </tr>\n",
              "  </tbody>\n",
              "</table>\n",
              "</div>\n",
              "    <div class=\"colab-df-buttons\">\n",
              "\n",
              "  <div class=\"colab-df-container\">\n",
              "    <button class=\"colab-df-convert\" onclick=\"convertToInteractive('df-0135e88f-5017-4185-87b3-7551dbd8260f')\"\n",
              "            title=\"Convert this dataframe to an interactive table.\"\n",
              "            style=\"display:none;\">\n",
              "\n",
              "  <svg xmlns=\"http://www.w3.org/2000/svg\" height=\"24px\" viewBox=\"0 -960 960 960\">\n",
              "    <path d=\"M120-120v-720h720v720H120Zm60-500h600v-160H180v160Zm220 220h160v-160H400v160Zm0 220h160v-160H400v160ZM180-400h160v-160H180v160Zm440 0h160v-160H620v160ZM180-180h160v-160H180v160Zm440 0h160v-160H620v160Z\"/>\n",
              "  </svg>\n",
              "    </button>\n",
              "\n",
              "  <style>\n",
              "    .colab-df-container {\n",
              "      display:flex;\n",
              "      gap: 12px;\n",
              "    }\n",
              "\n",
              "    .colab-df-convert {\n",
              "      background-color: #E8F0FE;\n",
              "      border: none;\n",
              "      border-radius: 50%;\n",
              "      cursor: pointer;\n",
              "      display: none;\n",
              "      fill: #1967D2;\n",
              "      height: 32px;\n",
              "      padding: 0 0 0 0;\n",
              "      width: 32px;\n",
              "    }\n",
              "\n",
              "    .colab-df-convert:hover {\n",
              "      background-color: #E2EBFA;\n",
              "      box-shadow: 0px 1px 2px rgba(60, 64, 67, 0.3), 0px 1px 3px 1px rgba(60, 64, 67, 0.15);\n",
              "      fill: #174EA6;\n",
              "    }\n",
              "\n",
              "    .colab-df-buttons div {\n",
              "      margin-bottom: 4px;\n",
              "    }\n",
              "\n",
              "    [theme=dark] .colab-df-convert {\n",
              "      background-color: #3B4455;\n",
              "      fill: #D2E3FC;\n",
              "    }\n",
              "\n",
              "    [theme=dark] .colab-df-convert:hover {\n",
              "      background-color: #434B5C;\n",
              "      box-shadow: 0px 1px 3px 1px rgba(0, 0, 0, 0.15);\n",
              "      filter: drop-shadow(0px 1px 2px rgba(0, 0, 0, 0.3));\n",
              "      fill: #FFFFFF;\n",
              "    }\n",
              "  </style>\n",
              "\n",
              "    <script>\n",
              "      const buttonEl =\n",
              "        document.querySelector('#df-0135e88f-5017-4185-87b3-7551dbd8260f button.colab-df-convert');\n",
              "      buttonEl.style.display =\n",
              "        google.colab.kernel.accessAllowed ? 'block' : 'none';\n",
              "\n",
              "      async function convertToInteractive(key) {\n",
              "        const element = document.querySelector('#df-0135e88f-5017-4185-87b3-7551dbd8260f');\n",
              "        const dataTable =\n",
              "          await google.colab.kernel.invokeFunction('convertToInteractive',\n",
              "                                                    [key], {});\n",
              "        if (!dataTable) return;\n",
              "\n",
              "        const docLinkHtml = 'Like what you see? Visit the ' +\n",
              "          '<a target=\"_blank\" href=https://colab.research.google.com/notebooks/data_table.ipynb>data table notebook</a>'\n",
              "          + ' to learn more about interactive tables.';\n",
              "        element.innerHTML = '';\n",
              "        dataTable['output_type'] = 'display_data';\n",
              "        await google.colab.output.renderOutput(dataTable, element);\n",
              "        const docLink = document.createElement('div');\n",
              "        docLink.innerHTML = docLinkHtml;\n",
              "        element.appendChild(docLink);\n",
              "      }\n",
              "    </script>\n",
              "  </div>\n",
              "\n",
              "\n",
              "<div id=\"df-406c8dbd-cbbf-427e-a1fd-1233dc5c191b\">\n",
              "  <button class=\"colab-df-quickchart\" onclick=\"quickchart('df-406c8dbd-cbbf-427e-a1fd-1233dc5c191b')\"\n",
              "            title=\"Suggest charts.\"\n",
              "            style=\"display:none;\">\n",
              "\n",
              "<svg xmlns=\"http://www.w3.org/2000/svg\" height=\"24px\"viewBox=\"0 0 24 24\"\n",
              "     width=\"24px\">\n",
              "    <g>\n",
              "        <path d=\"M19 3H5c-1.1 0-2 .9-2 2v14c0 1.1.9 2 2 2h14c1.1 0 2-.9 2-2V5c0-1.1-.9-2-2-2zM9 17H7v-7h2v7zm4 0h-2V7h2v10zm4 0h-2v-4h2v4z\"/>\n",
              "    </g>\n",
              "</svg>\n",
              "  </button>\n",
              "\n",
              "<style>\n",
              "  .colab-df-quickchart {\n",
              "      --bg-color: #E8F0FE;\n",
              "      --fill-color: #1967D2;\n",
              "      --hover-bg-color: #E2EBFA;\n",
              "      --hover-fill-color: #174EA6;\n",
              "      --disabled-fill-color: #AAA;\n",
              "      --disabled-bg-color: #DDD;\n",
              "  }\n",
              "\n",
              "  [theme=dark] .colab-df-quickchart {\n",
              "      --bg-color: #3B4455;\n",
              "      --fill-color: #D2E3FC;\n",
              "      --hover-bg-color: #434B5C;\n",
              "      --hover-fill-color: #FFFFFF;\n",
              "      --disabled-bg-color: #3B4455;\n",
              "      --disabled-fill-color: #666;\n",
              "  }\n",
              "\n",
              "  .colab-df-quickchart {\n",
              "    background-color: var(--bg-color);\n",
              "    border: none;\n",
              "    border-radius: 50%;\n",
              "    cursor: pointer;\n",
              "    display: none;\n",
              "    fill: var(--fill-color);\n",
              "    height: 32px;\n",
              "    padding: 0;\n",
              "    width: 32px;\n",
              "  }\n",
              "\n",
              "  .colab-df-quickchart:hover {\n",
              "    background-color: var(--hover-bg-color);\n",
              "    box-shadow: 0 1px 2px rgba(60, 64, 67, 0.3), 0 1px 3px 1px rgba(60, 64, 67, 0.15);\n",
              "    fill: var(--button-hover-fill-color);\n",
              "  }\n",
              "\n",
              "  .colab-df-quickchart-complete:disabled,\n",
              "  .colab-df-quickchart-complete:disabled:hover {\n",
              "    background-color: var(--disabled-bg-color);\n",
              "    fill: var(--disabled-fill-color);\n",
              "    box-shadow: none;\n",
              "  }\n",
              "\n",
              "  .colab-df-spinner {\n",
              "    border: 2px solid var(--fill-color);\n",
              "    border-color: transparent;\n",
              "    border-bottom-color: var(--fill-color);\n",
              "    animation:\n",
              "      spin 1s steps(1) infinite;\n",
              "  }\n",
              "\n",
              "  @keyframes spin {\n",
              "    0% {\n",
              "      border-color: transparent;\n",
              "      border-bottom-color: var(--fill-color);\n",
              "      border-left-color: var(--fill-color);\n",
              "    }\n",
              "    20% {\n",
              "      border-color: transparent;\n",
              "      border-left-color: var(--fill-color);\n",
              "      border-top-color: var(--fill-color);\n",
              "    }\n",
              "    30% {\n",
              "      border-color: transparent;\n",
              "      border-left-color: var(--fill-color);\n",
              "      border-top-color: var(--fill-color);\n",
              "      border-right-color: var(--fill-color);\n",
              "    }\n",
              "    40% {\n",
              "      border-color: transparent;\n",
              "      border-right-color: var(--fill-color);\n",
              "      border-top-color: var(--fill-color);\n",
              "    }\n",
              "    60% {\n",
              "      border-color: transparent;\n",
              "      border-right-color: var(--fill-color);\n",
              "    }\n",
              "    80% {\n",
              "      border-color: transparent;\n",
              "      border-right-color: var(--fill-color);\n",
              "      border-bottom-color: var(--fill-color);\n",
              "    }\n",
              "    90% {\n",
              "      border-color: transparent;\n",
              "      border-bottom-color: var(--fill-color);\n",
              "    }\n",
              "  }\n",
              "</style>\n",
              "\n",
              "  <script>\n",
              "    async function quickchart(key) {\n",
              "      const quickchartButtonEl =\n",
              "        document.querySelector('#' + key + ' button');\n",
              "      quickchartButtonEl.disabled = true;  // To prevent multiple clicks.\n",
              "      quickchartButtonEl.classList.add('colab-df-spinner');\n",
              "      try {\n",
              "        const charts = await google.colab.kernel.invokeFunction(\n",
              "            'suggestCharts', [key], {});\n",
              "      } catch (error) {\n",
              "        console.error('Error during call to suggestCharts:', error);\n",
              "      }\n",
              "      quickchartButtonEl.classList.remove('colab-df-spinner');\n",
              "      quickchartButtonEl.classList.add('colab-df-quickchart-complete');\n",
              "    }\n",
              "    (() => {\n",
              "      let quickchartButtonEl =\n",
              "        document.querySelector('#df-406c8dbd-cbbf-427e-a1fd-1233dc5c191b button');\n",
              "      quickchartButtonEl.style.display =\n",
              "        google.colab.kernel.accessAllowed ? 'block' : 'none';\n",
              "    })();\n",
              "  </script>\n",
              "</div>\n",
              "    </div>\n",
              "  </div>\n"
            ]
          },
          "metadata": {},
          "execution_count": 270
        }
      ],
      "source": [
        "#ACCIONA, AENA y SOLARIA ENERGIA - los ultimos 3 años\n",
        "start_date = \"2020-01-01\"\n",
        "end_date = \"2023-11-05\"\n",
        "symbols = ['ANA.MC','SLR.MC','AENA.MC']\n",
        "cartera = yf.download(symbols, start=start_date, end=end_date)\n",
        "\n",
        "cartera_adj_close = cartera['Adj Close']\n",
        "cartera_adj_close.head().round(4)"
      ]
    },
    {
      "cell_type": "code",
      "source": [
        "ibex35 = yf.download('^IBEX', start=start_date, end=end_date)\n",
        "ibex35_adj_close = ibex35['Adj Close']\n",
        "ibex35_adj_close.head().round(4)"
      ],
      "metadata": {
        "colab": {
          "base_uri": "https://localhost:8080/"
        },
        "id": "EVO9RaCkENKA",
        "outputId": "2f7efa57-5f88-4fe4-ccef-2f9a3302166b"
      },
      "execution_count": 271,
      "outputs": [
        {
          "output_type": "stream",
          "name": "stdout",
          "text": [
            "\r[*********************100%%**********************]  1 of 1 completed\n"
          ]
        },
        {
          "output_type": "execute_result",
          "data": {
            "text/plain": [
              "Date\n",
              "2020-01-02    9691.2002\n",
              "2020-01-03    9646.5996\n",
              "2020-01-06    9600.9004\n",
              "2020-01-07    9579.7998\n",
              "2020-01-08    9591.4004\n",
              "Name: Adj Close, dtype: float64"
            ]
          },
          "metadata": {},
          "execution_count": 271
        }
      ]
    },
    {
      "cell_type": "markdown",
      "source": [
        "# Retornos"
      ],
      "metadata": {
        "id": "H-NvcFCjZrI4"
      }
    },
    {
      "cell_type": "code",
      "source": [
        "#retornos simples diarios de la cartera\n",
        "returns_cartera = cartera_adj_close.pct_change().dropna()\n",
        "print(returns_cartera.round(4))"
      ],
      "metadata": {
        "colab": {
          "base_uri": "https://localhost:8080/"
        },
        "id": "3ypqZAE9LI_m",
        "outputId": "8340bc75-a9d5-4978-c139-fe9cb085b9b3"
      },
      "execution_count": 272,
      "outputs": [
        {
          "output_type": "stream",
          "name": "stdout",
          "text": [
            "            AENA.MC  ANA.MC  SLR.MC\n",
            "Date                               \n",
            "2020-01-03  -0.0070 -0.0151 -0.0126\n",
            "2020-01-06  -0.0065 -0.0093 -0.0312\n",
            "2020-01-07  -0.0044  0.0000  0.0146\n",
            "2020-01-08   0.0021 -0.0006  0.0014\n",
            "2020-01-09   0.0083  0.0200  0.0676\n",
            "...             ...     ...     ...\n",
            "2023-10-30   0.0097  0.0144  0.0004\n",
            "2023-10-31   0.0077  0.0245  0.0220\n",
            "2023-11-01   0.0106 -0.0063 -0.0049\n",
            "2023-11-02   0.0546  0.0469  0.0391\n",
            "2023-11-03  -0.0031  0.0275  0.0383\n",
            "\n",
            "[986 rows x 3 columns]\n"
          ]
        }
      ]
    },
    {
      "cell_type": "code",
      "source": [
        "#retornos simples diarios de IBEX35\n",
        "returns_ibex = ibex35_adj_close.pct_change().dropna()\n",
        "print(returns_ibex.round(4))"
      ],
      "metadata": {
        "colab": {
          "base_uri": "https://localhost:8080/"
        },
        "id": "ZwguGsIHN8md",
        "outputId": "881c948f-e2fe-4405-e6cb-45159222a4bf"
      },
      "execution_count": 273,
      "outputs": [
        {
          "output_type": "stream",
          "name": "stdout",
          "text": [
            "Date\n",
            "2020-01-03   -0.0046\n",
            "2020-01-06   -0.0047\n",
            "2020-01-07   -0.0022\n",
            "2020-01-08    0.0012\n",
            "2020-01-09   -0.0010\n",
            "               ...  \n",
            "2023-10-30    0.0107\n",
            "2023-10-31    0.0004\n",
            "2023-11-01    0.0064\n",
            "2023-11-02    0.0204\n",
            "2023-11-03    0.0036\n",
            "Name: Adj Close, Length: 986, dtype: float64\n"
          ]
        }
      ]
    },
    {
      "cell_type": "markdown",
      "source": [
        "# Tracking error"
      ],
      "metadata": {
        "id": "DHPxt6UWaIcv"
      }
    },
    {
      "cell_type": "markdown",
      "source": [
        "Formulas de: https://www.investopedia.com/terms/t/trackingerror.asp#:~:text=Given%20a%20sequence%20of%20returnsand%20B%20is%20benchmark%20return.\n",
        "\n"
      ],
      "metadata": {
        "id": "cbfSjxOWqwNp"
      }
    },
    {
      "cell_type": "markdown",
      "source": [
        "Version 1\n",
        "- diferencia entre el retorno de la cartera y el retorno de IBEX35 simple\n",
        "- cada activo tiene el mismo peso: 1/3 de la cartera\n",
        "- hecha con retornos diarios"
      ],
      "metadata": {
        "id": "hkVuS2Rpqs97"
      }
    },
    {
      "cell_type": "code",
      "source": [
        "weighted_portfolio_return = (returns_cartera['AENA.MC']+returns_cartera['ANA.MC']+returns_cartera['SLR.MC'])/3\n",
        "tracking_error1 = weighted_portfolio_return-returns_ibex\n",
        "tracking_error1*100 #%"
      ],
      "metadata": {
        "colab": {
          "base_uri": "https://localhost:8080/"
        },
        "id": "F6BO_n2da4FZ",
        "outputId": "b0e0e02d-aef2-4732-db25-e890c959f61d"
      },
      "execution_count": 274,
      "outputs": [
        {
          "output_type": "execute_result",
          "data": {
            "text/plain": [
              "Date\n",
              "2020-01-03   -0.697375\n",
              "2020-01-06   -1.091556\n",
              "2020-01-07    0.559179\n",
              "2020-01-08   -0.022191\n",
              "2020-01-09    3.296265\n",
              "                ...   \n",
              "2023-10-30   -0.257146\n",
              "2023-10-31    1.772436\n",
              "2023-11-01   -0.661424\n",
              "2023-11-02    2.644620\n",
              "2023-11-03    1.726699\n",
              "Length: 986, dtype: float64"
            ]
          },
          "metadata": {},
          "execution_count": 274
        }
      ]
    },
    {
      "cell_type": "markdown",
      "source": [
        "Version 2\n",
        "- Desviación Estándar de la diferencia entre el retorno de cartera y retorno de IBEX35"
      ],
      "metadata": {
        "id": "TKBqg3_8rGE1"
      }
    },
    {
      "cell_type": "code",
      "source": [
        "tracking_error1 #la diferencia"
      ],
      "metadata": {
        "colab": {
          "base_uri": "https://localhost:8080/"
        },
        "id": "HKqzPs_1gids",
        "outputId": "6c4bde3f-3ecb-49a0-973e-88de04d8c38b"
      },
      "execution_count": 275,
      "outputs": [
        {
          "output_type": "execute_result",
          "data": {
            "text/plain": [
              "Date\n",
              "2020-01-03   -0.006974\n",
              "2020-01-06   -0.010916\n",
              "2020-01-07    0.005592\n",
              "2020-01-08   -0.000222\n",
              "2020-01-09    0.032963\n",
              "                ...   \n",
              "2023-10-30   -0.002571\n",
              "2023-10-31    0.017724\n",
              "2023-11-01   -0.006614\n",
              "2023-11-02    0.026446\n",
              "2023-11-03    0.017267\n",
              "Length: 986, dtype: float64"
            ]
          },
          "metadata": {},
          "execution_count": 275
        }
      ]
    },
    {
      "cell_type": "code",
      "source": [
        "tracking_errors2 = tracking_error1.std() * (252 ** 0.5) #anualizar la desviacion de los retornos diarios\n",
        "round(tracking_errors2*100,2) #%"
      ],
      "metadata": {
        "colab": {
          "base_uri": "https://localhost:8080/"
        },
        "id": "ZyX8-AoJonHT",
        "outputId": "7f4b2211-c55a-4a12-b1e8-266c2b08a315"
      },
      "execution_count": 276,
      "outputs": [
        {
          "output_type": "execute_result",
          "data": {
            "text/plain": [
              "21.92"
            ]
          },
          "metadata": {},
          "execution_count": 276
        }
      ]
    },
    {
      "cell_type": "markdown",
      "source": [
        "# La función del tracking error"
      ],
      "metadata": {
        "id": "2NSrNuNL6is4"
      }
    },
    {
      "cell_type": "code",
      "source": [
        "import pandas as pd\n",
        "import datetime\n",
        "import yfinance as yf\n",
        "import numpy as np\n",
        "\n",
        "def tracking_error(symbols, index, start_date, end_date):\n",
        "\n",
        "  cartera = yf.download(symbols, start=start_date, end=end_date)['Adj Close']\n",
        "  index = yf.download(index, start=start_date, end=end_date)['Adj Close']\n",
        "\n",
        "  cartera_returns = cartera.pct_change().dropna()\n",
        "  index_returns = index.pct_change().dropna()\n",
        "\n",
        "  weighted_portfolio_return = cartera_returns.mean(axis=1)\n",
        "  tracking_error_2 = (weighted_portfolio_return - index_returns).std() * (252 ** 0.5)\n",
        "\n",
        "  print(\"Tracking Error:\", f\"{(tracking_error_2*100):.2f}%\")\n",
        "\n",
        "\n",
        "start_date = \"2020-01-01\"\n",
        "end_date = \"2023-11-05\"\n",
        "symbols = ['ANA.MC','SLR.MC','AENA.MC']\n",
        "index = '^IBEX'\n",
        "tracking_error = tracking_error(symbols, index, start_date, end_date)"
      ],
      "metadata": {
        "colab": {
          "base_uri": "https://localhost:8080/"
        },
        "id": "oTxDRGEbwAuP",
        "outputId": "60546a64-6ca1-435e-8f47-adf548605004"
      },
      "execution_count": 277,
      "outputs": [
        {
          "output_type": "stream",
          "name": "stdout",
          "text": [
            "[*********************100%%**********************]  3 of 3 completed\n",
            "[*********************100%%**********************]  1 of 1 completed\n",
            "Tracking Error: 21.92%\n"
          ]
        }
      ]
    },
    {
      "cell_type": "markdown",
      "source": [
        "# Conclusion\n",
        "\n",
        "El resultado de tracking error = 21,92% comparando mi cartera de ACCIONA, AENA y SOLARIA ENERGIA de los ultimos 3 años con IBEX35 significa en promedio los rendimientos de mi cartera desvían 22% de los rendimientos del indice IBEX35. Por eso, diría que unos 22% son bastante alto porcentaje de desviación y que mi cartera no sigue el IBEX35 en los ultimos 3 años."
      ],
      "metadata": {
        "id": "lJm9cVZR5y86"
      }
    }
  ]
}